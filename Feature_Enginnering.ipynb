{
  "nbformat": 4,
  "nbformat_minor": 0,
  "metadata": {
    "colab": {
      "provenance": []
    },
    "kernelspec": {
      "name": "python3",
      "display_name": "Python 3"
    },
    "language_info": {
      "name": "python"
    }
  },
  "cells": [
    {
      "cell_type": "markdown",
      "source": [
        "Create a vector (array) of 1XN dimension representing N-\n",
        "dimensional feature vector of a sample. Write a program to\n",
        "\n",
        "compute the mean and variance of the elements present in the\n",
        "array."
      ],
      "metadata": {
        "id": "J2zo8r5iL-fy"
      }
    },
    {
      "cell_type": "code",
      "execution_count": 1,
      "metadata": {
        "colab": {
          "base_uri": "https://localhost:8080/"
        },
        "id": "Y_0352SkLt6E",
        "outputId": "13cf412a-962d-42a4-8a64-767f27bfd86c"
      },
      "outputs": [
        {
          "output_type": "stream",
          "name": "stdout",
          "text": [
            "Vector (1xN): [0.60764553 0.25989763 0.73391513 0.47923264 0.78910299 0.82202654\n",
            " 0.30862357 0.80785072 0.81174345 0.84477364]\n",
            "Mean of the vector: 0.6464811830679551\n",
            "Variance of the vector: 0.04445483792755442\n"
          ]
        }
      ],
      "source": [
        "import numpy as np\n",
        "\n",
        "def compute_mean_and_variance(vector):\n",
        "    mean = np.mean(vector)\n",
        "    variance = np.var(vector)\n",
        "    return mean, variance\n",
        "\n",
        "N = 10\n",
        "vector = np.random.rand(N)\n",
        "\n",
        "mean, variance = compute_mean_and_variance(vector)\n",
        "print(\"Vector (1xN):\", vector)\n",
        "print(\"Mean of the vector:\", mean)\n",
        "print(\"Variance of the vector:\", variance)"
      ]
    },
    {
      "cell_type": "markdown",
      "source": [
        "Create two vectors each of dimension 1XM each representing N- dimensional feature vector of a sample. Write a program to\n",
        "\n",
        "compute the Covariance between them."
      ],
      "metadata": {
        "id": "li63Zq-kMGXj"
      }
    },
    {
      "cell_type": "code",
      "source": [
        "import numpy as np\n",
        "def covarience(vector1,vector2):\n",
        "    cov=np.cov(vector1,vector2)\n",
        "    return cov\n",
        "N = 5\n",
        "vector1 = np.random.rand(N)\n",
        "vector2 = np.random.rand(N)\n",
        "cov=covarience(vector1,vector2)\n",
        "print(\"Vector 1:\", vector1)\n",
        "print(\"Vector 2:\", vector2)\n",
        "print(cov)"
      ],
      "metadata": {
        "colab": {
          "base_uri": "https://localhost:8080/"
        },
        "id": "VvaGoyXaMJQp",
        "outputId": "b689ddf0-434a-43e3-b303-8eb187f74962"
      },
      "execution_count": 2,
      "outputs": [
        {
          "output_type": "stream",
          "name": "stdout",
          "text": [
            "Vector 1: [0.93471116 0.84515048 0.6708491  0.43377344 0.57246477]\n",
            "Vector 2: [0.93379476 0.94309057 0.48188555 0.40550786 0.94718273]\n",
            "[[0.04094473 0.03630376]\n",
            " [0.03630376 0.07505217]]\n"
          ]
        }
      ]
    },
    {
      "cell_type": "markdown",
      "source": [
        "Create two vectors each of dimension 1XN. Write a program to compute the Correlation between them."
      ],
      "metadata": {
        "id": "aa_S8LfeMNYO"
      }
    },
    {
      "cell_type": "code",
      "source": [
        "import numpy as np\n",
        "def correlation(vector1,vector2):\n",
        "    corr=np.corrcoef(vector1,vector2)\n",
        "    return corr\n",
        "N = 5\n",
        "vector1= np.random.rand(N)\n",
        "vector2= np.random.rand(N)\n",
        "corr=correlation(vector1,vector2)\n",
        "print(\"Vector 1:\", vector1)\n",
        "print(\"Vector 2:\", vector2)\n",
        "print(corr)"
      ],
      "metadata": {
        "colab": {
          "base_uri": "https://localhost:8080/"
        },
        "id": "KMXj9R8SMQZh",
        "outputId": "48d65c5d-8147-4a76-ffa3-517abf527b0e"
      },
      "execution_count": 3,
      "outputs": [
        {
          "output_type": "stream",
          "name": "stdout",
          "text": [
            "Vector 1: [0.89682917 0.13281416 0.27951511 0.53423796 0.03847826]\n",
            "Vector 2: [0.52509783 0.44821022 0.11314973 0.91029774 0.93084634]\n",
            "[[ 1.         -0.03722685]\n",
            " [-0.03722685  1.        ]]\n"
          ]
        }
      ]
    },
    {
      "cell_type": "markdown",
      "source": [
        "Create a Matrix of MXN dimension representing the M-dimensional feature vector for N number of samples i. e (i,j)th entry of the matrix represents the ith feature of jth sample. Write a program to compute the covariance matrix and correlation matrix. Comment on takeaways from these matrixes."
      ],
      "metadata": {
        "id": "N0gOJTRnMWJV"
      }
    },
    {
      "cell_type": "code",
      "source": [
        "import numpy as np\n",
        "M = 5\n",
        "N = 3\n",
        "matrix = np.random.rand(M,N)\n",
        "cov_matrix = np.cov(matrix)\n",
        "corr_matrix = np.corrcoef(matrix)\n",
        "print(\"Matrix (MXN):\", matrix)\n",
        "print(\"Covariance Matrix:\")\n",
        "print(cov_matrix)\n",
        "print(\"Correlation Matrix:\")\n",
        "print(corr_matrix)\n"
      ],
      "metadata": {
        "colab": {
          "base_uri": "https://localhost:8080/"
        },
        "id": "GjojYr3TMXL1",
        "outputId": "2104381f-34e9-4a4c-c022-6652fe143ed8"
      },
      "execution_count": 4,
      "outputs": [
        {
          "output_type": "stream",
          "name": "stdout",
          "text": [
            "Matrix (MXN): [[0.32309081 0.02188393 0.24323162]\n",
            " [0.53432503 0.68492475 0.08914442]\n",
            " [0.77059517 0.11615685 0.49615725]\n",
            " [0.76488089 0.46061627 0.26465415]\n",
            " [0.61061606 0.03585182 0.17218438]]\n",
            "Covariance Matrix:\n",
            "[[ 0.02434965 -0.02361409  0.05052499  0.01470309  0.03971877]\n",
            " [-0.02361409  0.09597004 -0.03379676  0.04893658  0.00456628]\n",
            " [ 0.05052499 -0.03379676  0.108001    0.04365632  0.09137941]\n",
            " [ 0.01470309  0.04893658  0.04365632  0.06353415  0.06124661]\n",
            " [ 0.03971877  0.00456628  0.09137941  0.06124661  0.09019381]]\n",
            "Correlation Matrix:\n",
            "[[ 1.         -0.48849145  0.98524901  0.37381665  0.84754183]\n",
            " [-0.48849145  1.         -0.3319658   0.62670351  0.04908023]\n",
            " [ 0.98524901 -0.3319658   1.          0.52702307  0.92586165]\n",
            " [ 0.37381665  0.62670351  0.52702307  1.          0.80907742]\n",
            " [ 0.84754183  0.04908023  0.92586165  0.80907742  1.        ]]\n"
          ]
        }
      ]
    }
  ]
}